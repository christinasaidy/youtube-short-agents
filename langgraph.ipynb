{
 "cells": [
  {
   "cell_type": "code",
   "execution_count": 202,
   "id": "1cd83ef4",
   "metadata": {},
   "outputs": [
    {
     "data": {
      "text/plain": [
       "True"
      ]
     },
     "execution_count": 202,
     "metadata": {},
     "output_type": "execute_result"
    }
   ],
   "source": [
    "from typing import TypedDict, List, Union\n",
    "from langchain_core.messages import HumanMessage, AIMessage\n",
    "from langchain_google_genai import ChatGoogleGenerativeAI\n",
    "from langgraph.graph import StateGraph, START, END\n",
    "from dotenv import load_dotenv\n",
    "from langchain_tavily import TavilySearch\n",
    "from langchain_core.tools import tool\n",
    "from langchain_experimental.utilities import PythonREPL\n",
    "from langgraph.prebuilt import create_react_agent\n",
    "import os\n",
    "load_dotenv()\n"
   ]
  },
  {
   "cell_type": "code",
   "execution_count": 115,
   "id": "b2e5fc3c",
   "metadata": {},
   "outputs": [],
   "source": [
    "class AgentState(TypedDict):\n",
    "    messages: List[Union[HumanMessage, AIMessage]]\n",
    "\n",
    "api_key = os.getenv(\"API_KEY\")\n",
    "\n",
    "llm = ChatGoogleGenerativeAI(model=\"gemini-2.0-flash\", google_api_key = api_key)"
   ]
  },
  {
   "cell_type": "code",
   "execution_count": 116,
   "id": "9c457762",
   "metadata": {},
   "outputs": [],
   "source": [
    "# response = llm.invoke(\"hi\")\n",
    "# response"
   ]
  },
  {
   "cell_type": "markdown",
   "id": "ac1358ed",
   "metadata": {},
   "source": [
    "### Create Script Writer Agent"
   ]
  },
  {
   "cell_type": "code",
   "execution_count": 164,
   "id": "ee7e935c",
   "metadata": {},
   "outputs": [
    {
     "data": {
      "text/plain": [
       "{'messages': [HumanMessage(content='hi', additional_kwargs={}, response_metadata={}, id='3bb6c616-4a59-4a5e-b230-04f57e52d155'),\n",
       "  AIMessage(content=\"Hi! I'm ready to help you create a developer-focused YouTube Short script. What's the product idea or feature you want to promote? Please provide as much detail as possible.\", additional_kwargs={}, response_metadata={'prompt_feedback': {'block_reason': 0, 'safety_ratings': []}, 'finish_reason': 'STOP', 'model_name': 'gemini-2.0-flash', 'safety_ratings': []}, id='run--adb5faa4-fc98-4ba4-9f97-bbb79483b9be-0')]}"
      ]
     },
     "execution_count": 164,
     "metadata": {},
     "output_type": "execute_result"
    }
   ],
   "source": [
    "tavily_tool = TavilySearch(max_results=5)\n",
    "\n",
    "with open(\"scriptwriter_instruction.txt\", 'r', encoding=\"utf-8\") as file:\n",
    "        instruction = file.read()\n",
    "\n",
    "scriptwriter_agent = create_react_agent(llm, \n",
    "tools = [tavily_tool],\n",
    "prompt = instruction)\n",
    "\n",
    "\n",
    "\n",
    "def scriptwriter_node(state: AgentState)-> AgentState:\n",
    "\n",
    "    response = scriptwriter_agent.invoke({\"messages\": state[\"messages\"]})\n",
    "    updated_messages = response[\"messages\"]\n",
    "\n",
    "    return {\"messages\": updated_messages}\n",
    "\n",
    "\n",
    "\n",
    "test = scriptwriter_agent.invoke({\"messages\": [HumanMessage(content=\"hi\")]})\n",
    "test"
   ]
  },
  {
   "cell_type": "code",
   "execution_count": 165,
   "id": "6bcb3c4a",
   "metadata": {},
   "outputs": [
    {
     "data": {
      "image/png": "[encoded data removed]",
      "text/plain": [
       "<IPython.core.display.Image object>"
      ]
     },
     "metadata": {},
     "output_type": "display_data"
    }
   ],
   "source": [
    "graph = StateGraph(AgentState)\n",
    "graph.add_node(\"scriptwriter\",scriptwriter_node)\n",
    "graph.add_edge(START, \"scriptwriter\")\n",
    "graph.add_edge(\"scriptwriter\", END)\n",
    "\n",
    "app = graph.compile()\n",
    "from IPython.display import Image, display\n",
    "\n",
    "display(Image(app.get_graph().draw_mermaid_png()))\n",
    "\n"
   ]
  },
  {
   "cell_type": "code",
   "execution_count": 166,
   "id": "8dd9f819",
   "metadata": {},
   "outputs": [
    {
     "name": "stdout",
     "output_type": "stream",
     "text": [
      "[HumanMessage(content='give me a script about  python', additional_kwargs={}, response_metadata={}, id='68c1ac3c-9565-4e07-b818-cd2362f0f13d'), AIMessage(content=\"```text\\n[0-2s] Frustrated with verbose code?\\n[2-5s] Python offers a clean, readable syntax that boosts developer productivity.\\n[5-10s] Its dynamic typing and extensive libraries like NumPy and Pandas simplify complex tasks.\\n[10-15s] From web development with Django and Flask...\\n[15-20s] ...to data science and machine learning, Python's versatility shines.\\n[20-25s] Need to automate tasks? Python scripting gets it done efficiently.\\n[25-30s] Join millions of developers leveraging Python's power.\\n[30-35s] Start learning today and unlock endless possibilities!\\n[35-38s] Find beginner-friendly tutorials in the description.\\n```\", additional_kwargs={}, response_metadata={'prompt_feedback': {'block_reason': 0, 'safety_ratings': []}, 'finish_reason': 'STOP', 'model_name': 'gemini-2.0-flash', 'safety_ratings': []}, id='run--551c7301-3ea3-499c-85f6-0290c5c88854-0')]\n"
     ]
    }
   ],
   "source": [
    "conversation_history = []\n",
    "\n",
    "user_input = input(\"Enter: \")\n",
    "while user_input != \"exit\":\n",
    "    conversation_history.append(HumanMessage(content=user_input))  \n",
    "\n",
    "    result = app.invoke({\"messages\": conversation_history})\n",
    "\n",
    "    conversation_history = result[\"messages\"]  \n",
    "\n",
    "    print(result[\"messages\"])\n",
    "\n",
    "    user_input = input(\"Enter: \")"
   ]
  },
  {
   "cell_type": "markdown",
   "id": "257c983f",
   "metadata": {},
   "source": [
    "### Add  Visualizer Agent"
   ]
  },
  {
   "cell_type": "code",
   "execution_count": 163,
   "id": "df554c08",
   "metadata": {},
   "outputs": [],
   "source": [
    "with open(\"visualizer_instruction.txt\", 'r', encoding=\"utf-8\") as file:\n",
    "        instruction = file.read()\n",
    "\n",
    "visualizer_agent = create_react_agent(llm, prompt = instruction, tools =[])\n"
   ]
  },
  {
   "cell_type": "code",
   "execution_count": 183,
   "id": "3df10e98",
   "metadata": {},
   "outputs": [
    {
     "data": {
      "image/png": "[encoded data removed]",
      "text/plain": [
       "<IPython.core.display.Image object>"
      ]
     },
     "metadata": {},
     "output_type": "display_data"
    }
   ],
   "source": [
    "def visualizer_node(state: AgentState)-> AgentState:\n",
    "\n",
    "    response = visualizer_agent.invoke({\"messages\": state[\"messages\"]})\n",
    "    updated_messages = response[\"messages\"]\n",
    "\n",
    "    return {\"messages\": updated_messages}\n",
    "\n",
    "####### build graph with new agent\n",
    "\n",
    "graph = StateGraph(AgentState)\n",
    "graph.add_node(\"scriptwriter\",scriptwriter_node)\n",
    "graph.add_edge(START, \"scriptwriter\")\n",
    "graph.add_node(\"visualizer\", visualizer_node)\n",
    "graph.add_edge(\"scriptwriter\", \"visualizer\")\n",
    "graph.add_edge(\"visualizer\", END)\n",
    "\n",
    "app = graph.compile()\n",
    "from IPython.display import Image, display\n",
    "\n",
    "display(Image(app.get_graph().draw_mermaid_png()))\n"
   ]
  },
  {
   "cell_type": "code",
   "execution_count": 175,
   "id": "c559e634",
   "metadata": {},
   "outputs": [
    {
     "name": "stdout",
     "output_type": "stream",
     "text": [
      "ENTERED VISUALIZER NODE\n",
      "[HumanMessage(content='ggive me youtube short about java', additional_kwargs={}, response_metadata={}, id='e52e7858-f45f-4680-bbe0-09085dca9ceb'), AIMessage(content='```text\\n(Upbeat, fast-paced music intro)\\n\\n**[0-2 seconds] Visual: Quick cuts of Java code snippets, logos of popular Java frameworks (Spring, etc.), and the word \"JAVA\" in bold text.**\\n\\n**[Narrator]:** Still using Java? Don\\'t let anyone tell you it\\'s outdated!\\n\\n**[2-7 seconds] Visual: A graph showing Java\\'s continued usage in enterprise environments. A simple \"Hello, World!\" Java code example appears.**\\n\\n**[Narrator]:** Java powers massive enterprise applications and modern backends. Its stability and huge community are unmatched.\\n\\n**[7-15 seconds] Visual: Code example demonstrating a key Java feature (e.g., Streams, Lambdas).**\\n\\n**[Narrator]:** Modern Java includes powerful features like Streams and Lambdas for concise and efficient code.\\n\\n**[15-25 seconds] Visual: Showcase popular Java frameworks (Spring, Hibernate, etc.) with their logos.**\\n\\n**[Narrator]:** Frameworks like Spring make building complex applications easier than ever. Plus, the JVM\\'s cross-platform compatibility is a huge win.\\n\\n**[25-35 seconds] Visual: A developer happily coding in an IDE.**\\n\\n**[Narrator]:** Java\\'s mature ecosystem and extensive libraries mean you can find solutions to almost any problem.\\n\\n**[35-45 seconds] Visual: Show a quick demo of a new Java feature or a cool Java project.**\\n\\n**[Narrator]:** So, whether you\\'re building microservices or maintaining legacy systems, Java\\'s got you covered.\\n\\n**[45-50 seconds] Visual: Text overlay: \"Learn more about Java!\" with a QR code or link.**\\n\\n**[Narrator]:** Check out the Java documentation to level up your skills.\\n\\n**[50-55 seconds] Visual: End screen with social media handles and a call to action.**\\n\\n**[Narrator]:** What are your favorite Java tips? Share them in the comments below!\\n\\n(Music fades out)\\n```', additional_kwargs={}, response_metadata={'prompt_feedback': {'block_reason': 0, 'safety_ratings': []}, 'finish_reason': 'STOP', 'model_name': 'gemini-2.0-flash', 'safety_ratings': []}, id='run--dad7be5f-182d-4207-a348-9c89873e5b71-0'), AIMessage(content='\\n\\n**Key Shots/Scenes:**\\n\\n1.  **Opening Montage:** Rapid cuts of Java code, framework logos, and the word \"JAVA.\"\\n2.  **Graph/Chart:** Simple bar graph illustrating Java\\'s market share in enterprise.\\n3.  **Code Snippet:** Clear and concise Java code example (Streams/Lambdas).\\n4.  **Framework Logos:** Clean display of popular framework logos (Spring, Hibernate, etc.).\\n5.  **Developer Coding:** Stock footage or animated illustration of a developer working on Java code.\\n6.  **Project Demo:** Quick screen recording of a cool Java project or new feature.\\n\\n**Pacing:**\\n\\n*   Moderately fast-paced to maintain engagement.\\n*   Sufficient time to read code snippets and see the logos.\\n\\n**On-Screen Text/Graphics:**\\n\\n*   \"JAVA\" (opening title)\\n*   \"Enterprise Applications\"\\n*   \"Streams & Lambdas\"\\n*   Framework names (Spring, Hibernate, etc.)\\n*   \"Learn More About Java!\"\\n*   Social Media Handles\\n\\n**Potential B-Roll:**\\n\\n*   Abstract visualization of data flow in a Java application (very brief).\\n    *   Clean shot of server hardware if relevant to enterprise applications.', additional_kwargs={}, response_metadata={'prompt_feedback': {'block_reason': 0, 'safety_ratings': []}, 'finish_reason': 'STOP', 'model_name': 'gemini-2.0-flash', 'safety_ratings': []}, id='run--c102afe5-6d2e-407e-843a-8f22e613d83a-0')]\n"
     ]
    }
   ],
   "source": [
    "conversation_history = []\n",
    "\n",
    "user_input = input(\"Enter: \")\n",
    "while user_input != \"exit\":\n",
    "    conversation_history.append(HumanMessage(content=user_input))  \n",
    "\n",
    "    result = app.invoke({\"messages\": conversation_history})\n",
    "\n",
    "    conversation_history = result[\"messages\"]  \n",
    "\n",
    "    print(result[\"messages\"])\n",
    "\n",
    "    user_input = input(\"Enter: \")"
   ]
  },
  {
   "cell_type": "markdown",
   "id": "8c8b43ef",
   "metadata": {},
   "source": [
    "### Add Formatter Agent"
   ]
  },
  {
   "cell_type": "code",
   "execution_count": 182,
   "id": "d99ed849",
   "metadata": {},
   "outputs": [],
   "source": [
    "formatter_agent = create_react_agent(llm,\n",
    "prompt = \"\"\"Combine the script you created and the visual concepts \n",
    " into the final Markdown format requested previously (Hook, Script & Visuals table, Visual Notes, CTA)\"\"\",\n",
    "tools =[])\n",
    "\n",
    "def formatter_node(state: AgentState)-> AgentState:\n",
    "\n",
    "    response = formatter_agent.invoke({\"messages\": state[\"messages\"]})\n",
    "    updated_messages = response[\"messages\"]\n",
    "\n",
    "    return {\"messages\": updated_messages}\n"
   ]
  },
  {
   "cell_type": "code",
   "execution_count": 177,
   "id": "3f9a327a",
   "metadata": {},
   "outputs": [
    {
     "data": {
      "image/png": "[encoded data removed]",
      "text/plain": [
       "<IPython.core.display.Image object>"
      ]
     },
     "metadata": {},
     "output_type": "display_data"
    }
   ],
   "source": [
    "graph = StateGraph(AgentState)\n",
    "graph.add_node(\"scriptwriter\",scriptwriter_node)\n",
    "graph.add_edge(START, \"scriptwriter\")\n",
    "graph.add_node(\"visualizer\", visualizer_node)\n",
    "graph.add_edge(\"scriptwriter\", \"visualizer\")\n",
    "graph.add_node(\"formatter\", formatter_node)\n",
    "graph.add_edge(\"visualizer\", \"formatter\")\n",
    "graph.add_edge(\"formatter\", END)\n",
    "\n",
    "app = graph.compile()\n",
    "from IPython.display import Image, display\n",
    "\n",
    "display(Image(app.get_graph().draw_mermaid_png()))"
   ]
  },
  {
   "cell_type": "code",
   "execution_count": 181,
   "id": "5c84db00",
   "metadata": {},
   "outputs": [
    {
     "name": "stdout",
     "output_type": "stream",
     "text": [
      "ENTERED VISUALIZER NODE\n",
      "ENTERED VISUALIZER NODE\n",
      "[HumanMessage(content='give me youtube short about java', additional_kwargs={}, response_metadata={}, id='01c9dffe-861a-4bba-8369-87ab36b5e82d'), AIMessage(content=\"```text\\n(Hook, 1-2s) Frustrated with verbose code?\\n\\n(Narrative, 15-20s) Java's great, but sometimes you need more concise syntax. Enter Project Lombok! It's a library that uses annotations to auto-generate boilerplate code like getters, setters, constructors, and toString methods.\\n\\n(Example, 10-15s) Just add the @Data annotation to your class, and Lombok handles the rest. No more manually writing repetitive code! This cleans up your classes and reduces errors.\\n\\n(Benefits, 5-10s) Spend less time on boilerplate and more time on actual logic. Lombok integrates seamlessly with most IDEs.\\n\\n(Call to Action, 2-3s) Check the link below for Lombok setup and usage!\\n```\", additional_kwargs={}, response_metadata={'prompt_feedback': {'block_reason': 0, 'safety_ratings': []}, 'finish_reason': 'STOP', 'model_name': 'gemini-2.0-flash', 'safety_ratings': []}, id='run--cc9cefde-8b72-44d8-84a0-409845c042e5-0'), AIMessage(content='', additional_kwargs={}, response_metadata={'prompt_feedback': {'block_reason': 0, 'safety_ratings': []}, 'finish_reason': 'STOP', 'model_name': 'gemini-2.0-flash', 'safety_ratings': []}, id='run--9f28ee26-a146-4e68-b821-f952d722bb40-0'), AIMessage(content='Okay, here\\'s the YouTube Short script, visuals, and call to action in the requested Markdown format:\\n\\n```markdown\\n## Java Boilerplate Got You Down? (Lombok to the Rescue!)\\n\\n**Hook (2 seconds):**\\n\\n*   **Visual:** Close-up of someone looking frustrated at a computer screen filled with lines of Java code. Maybe a hand dramatically hitting the \"enter\" key repeatedly.  Text overlay: \"Java Boilerplate Pain?\"\\n\\n---\\n\\n**Script & Visuals Table:**\\n\\n| **Time** | **Script**                                                                                                                                                                                                                                                                                                                                                                                                                                                                                                                                                                                                                                                                                                                                                                                                                                                                                                                                                                       | **Visuals**                                                                                                                                                                                                                                                                                                                                                                                                    |\\n| :------- | :--------------------------------------------------------------------------------------------------------------------------------------------------------------------------------------------------------------------------------------------------------------------------------------------------------------------------------------------------------------------------------------------------------------------------------------------------------------------------------------------------------------------------------------------------------------------------------------------------------------------------------------------------------------------------------------------------------------------------------------------------------------------------------------------------------------------------------------------------------------------------------------------------------------------------------------------------------------------------- | :--------------------------------------------------------------------------------------------------------------------------------------------------------------------------------------------------------------------------------------------------------------------------------------------------------------------------------------------------------------------------------------------------- |\\n| 0-2s     | **Frustrated with verbose code?**                                                                                                                                                                                                                                                                                                                                                                                                                                                                                                                                                                                                                                                                                                                                                                                                                                                                                                                                               | Close-up of someone looking frustrated at a computer screen filled with lines of Java code. Maybe a hand dramatically hitting the \"enter\" key repeatedly.  Text overlay: \"Java Boilerplate Pain?\"                                                                                                                                                                                                                                                                                               |\\n| 2-7s     | Java\\'s great, but sometimes you need more concise syntax.                                                                                                                                                                                                                                                                                                                                                                                                                                                                                                                                                                                                                                                                                                                                                                                                                                                                                                                      | Quick montage of positive Java logos, coding interfaces. Transition into a shot of long Java class with many lines of code.                                                                                                                                                                                                                                                                                          |\\n| 7-12s    | Enter Project Lombok! It\\'s a library that uses annotations to auto-generate boilerplate code like getters, setters, constructors, and toString methods.                                                                                                                                                                                                                                                                                                                                                                                                                                                                                                                                                                                                                                                                                                                                                                                                                        | Screen recording showing the Lombok logo appearing with a cool animation. Then, quickly show examples of getters, setters, constructors, and toString methods in Java code (before Lombok).                                                                                                                                                                                                                  |\\n| 12-22s   | Just add the `@Data` annotation to your class, and Lombok handles the rest. No more manually writing repetitive code! This cleans up your classes and reduces errors.                                                                                                                                                                                                                                                                                                                                                                                                                                                                                                                                                                                                                                                                                                                                                                                                       | Screen recording showing a Java class *without* Lombok. Then, show the same class *with* the `@Data` annotation added.  Highlight how much code is removed/simplified.  Use visual cues (arrows, highlighting) to emphasize the difference.  Ideally, show the code compiling successfully.                                                                                                                       |\\n| 22-27s   | Spend less time on boilerplate and more time on actual logic. Lombok integrates seamlessly with most IDEs.                                                                                                                                                                                                                                                                                                                                                                                                                                                                                                                                                                                                                                                                                                                                                                                                                                                                 | Show a split screen: One side shows someone struggling with boilerplate code, the other side shows someone happily coding with Lombok. Then, quickly show logos of popular IDEs (IntelliJ, Eclipse, VS Code) with Lombok integrations.                                                                                                                                                                  |\\n| 27-30s   | **Check the link below for Lombok setup and usage!**                                                                                                                                                                                                                                                                                                                                                                                                                                                                                                                                                                                                                                                                                                                                                                                                                                                                                                                      | End screen with a clear call to action: \"Learn Lombok Now!\" and an arrow pointing down towards the description/link.  A small Lombok logo could be present.  Briefly show the link as a text overlay.                                                                                                                                                                                            |\\n\\n---\\n\\n**Visual Notes:**\\n\\n*   **Color Palette:**  Use a bright, modern color palette.  Consider using contrasting colors to highlight the difference between Java with and without Lombok.\\n*   **Text Overlays:** Keep text overlays concise and easy to read. Use a clear, sans-serif font.\\n*   **Animations:** Use subtle animations to keep the video engaging.  For example, code could \"disappear\" when Lombok is added.\\n*   **Pacing:** The video should be fast-paced and energetic.  Keep the visuals moving to maintain viewer attention.\\n*   **Sound Design:** Use upbeat background music.  Consider adding sound effects to emphasize key points (e.g., a \"whoosh\" sound when Lombok is added).\\n\\n---\\n\\n**Call to Action:**\\n\\n**Learn Lombok Now!**\\n\\n[Link to Lombok Tutorial/Documentation]\\n```\\n\\nKey improvements and explanations:\\n\\n*   **Clearer Visual Descriptions:**  The \"Visuals\" column is much more descriptive, outlining *exactly* what should be shown on screen.  This gives the video editor a clear roadmap.\\n*   **Specific Timings:** Timings are given for each section\\n*   **Emphasis on Visual Contrast:**  The visuals are designed to clearly show the *benefit* of Lombok.  The \"before and after\" shots are crucial.\\n*   **IDE Integration:**  Highlighting IDE integration makes Lombok more appealing to developers.\\n*   **Call to Action Clarity:**  The call to action is very direct and includes a specific link placeholder.  The visual cue of an arrow pointing to the link is important.\\n*   **Visual Notes Section:** This section provides additional guidance to the video editor regarding color palette, text styles, animations, pacing, and sound design.  This ensures a consistent and engaging visual experience.\\n*   **Conciseness:** The script is very concise, given the time constraints of a YouTube Short.\\n\\nThis revised response provides a much more complete and actionable plan for creating a compelling YouTube Short about Lombok.  The visual suggestions are specific and designed to maximize engagement.  The script is tailored for a short format and focuses on the core benefits of Lombok.', additional_kwargs={}, response_metadata={'prompt_feedback': {'block_reason': 0, 'safety_ratings': []}, 'finish_reason': 'STOP', 'model_name': 'gemini-2.0-flash', 'safety_ratings': []}, id='run--e38f17c9-ede3-4e9a-9df5-695d4266aeba-0')]\n"
     ]
    }
   ],
   "source": [
    "conversation_history = []\n",
    "\n",
    "user_input = input(\"Enter: \")\n",
    "while user_input != \"exit\":\n",
    "    conversation_history.append(HumanMessage(content=user_input))  \n",
    "\n",
    "    result = app.invoke({\"messages\": conversation_history})\n",
    "\n",
    "    conversation_history = result[\"messages\"]  \n",
    "\n",
    "    print(result[\"messages\"])\n",
    "\n",
    "    user_input = input(\"Enter: \")"
   ]
  },
  {
   "cell_type": "markdown",
   "id": "413916e4",
   "metadata": {},
   "source": [
    "#### Add conditional edge and deciding node so that agents are used only when needed"
   ]
  },
  {
   "cell_type": "code",
   "execution_count": 199,
   "id": "808ff862",
   "metadata": {},
   "outputs": [],
   "source": [
    "def decide_whats_next(state: AgentState)->AgentState:\n",
    "    user_msg = state[\"messages\"][-1].content.lower()\n",
    "\n",
    "    if \"script\" in user_msg or \"youtube short\" in user_msg:\n",
    "        return \"scriptwriter\"  \n",
    "    else:\n",
    "        return \"chatbot\"\n",
    "    \n",
    "def chatbot_node(state: AgentState)-> AgentState:\n",
    "    response = llm.invoke(state[\"messages\"])\n",
    "    state[\"messages\"].append(response)\n",
    "    return state\n",
    "\n",
    "def route_node(state: AgentState) -> AgentState:\n",
    "    return state\n",
    "\n"
   ]
  },
  {
   "cell_type": "code",
   "execution_count": 200,
   "id": "1051da92",
   "metadata": {},
   "outputs": [
    {
     "data": {
      "image/png": "[encoded data removed]",
      "text/plain": [
       "<IPython.core.display.Image object>"
      ]
     },
     "metadata": {},
     "output_type": "display_data"
    }
   ],
   "source": [
    "graph = StateGraph(AgentState)\n",
    "graph.add_node(\"scriptwriter\",scriptwriter_node)\n",
    "\n",
    "graph.add_node(\"route\", route_node)\n",
    "graph.add_edge(START, \"route\")\n",
    "\n",
    "graph.add_conditional_edges(\n",
    "    \"route\",\n",
    "    decide_whats_next,\n",
    "    {\n",
    "        \"scriptwriter\": \"scriptwriter\",\n",
    "        \"chatbot\": \"chatbot\"\n",
    "    }\n",
    ")\n",
    "graph.add_node(\"chatbot\", chatbot_node)\n",
    "\n",
    "graph.add_node(\"visualizer\", visualizer_node)\n",
    "graph.add_edge(\"scriptwriter\", \"visualizer\")\n",
    "\n",
    "graph.add_node(\"formatter\", formatter_node)\n",
    "graph.add_edge(\"visualizer\", \"formatter\")\n",
    "\n",
    "graph.add_edge(\"formatter\", END)\n",
    "graph.add_edge(\"chatbot\", END)\n",
    "\n",
    "app = graph.compile()\n",
    "from IPython.display import Image, display\n",
    "\n",
    "display(Image(app.get_graph().draw_mermaid_png()))"
   ]
  },
  {
   "cell_type": "code",
   "execution_count": 203,
   "id": "57636cb1",
   "metadata": {},
   "outputs": [
    {
     "name": "stdout",
     "output_type": "stream",
     "text": [
      "[HumanMessage(content='hi my name is christina', additional_kwargs={}, response_metadata={}), AIMessage(content=\"Hi Christina, it's nice to meet you! How can I help you today?\", additional_kwargs={}, response_metadata={'prompt_feedback': {'block_reason': 0, 'safety_ratings': []}, 'finish_reason': 'STOP', 'model_name': 'gemini-2.0-flash', 'safety_ratings': []}, id='run--dfeadb3a-51cf-4a85-8076-80d085b0a55c-0')]\n",
      "[HumanMessage(content='hi my name is christina', additional_kwargs={}, response_metadata={}, id='cd3fd9ff-1bc0-4561-8b4c-f04d15b21ce2'), AIMessage(content=\"Hi Christina, it's nice to meet you! How can I help you today?\", additional_kwargs={}, response_metadata={'prompt_feedback': {'block_reason': 0, 'safety_ratings': []}, 'finish_reason': 'STOP', 'model_name': 'gemini-2.0-flash', 'safety_ratings': []}, id='run--dfeadb3a-51cf-4a85-8076-80d085b0a55c-0'), HumanMessage(content='give me a youtube short about java', additional_kwargs={}, response_metadata={}, id='aa79d29a-5fc3-4809-8e29-c6e117b32887'), AIMessage(content='Okay, here\\'s a script for a YouTube Short about Java, geared toward developers:\\n\\n**Title:** Java Still Relevant? (3 Reasons Why!)\\n\\n**(0-2 seconds) Visual: Quick montage of diverse applications using Java (Android app, enterprise server, desktop software). Text overlay: \"Java in 2024?\"**\\n\\n**(2-5 seconds) Voiceover:** Still think Java\\'s old news? Think again!\\n\\n**(5-15 seconds) Visual: Code snippet highlighting Java\\'s platform independence (e.g., simple \"Hello World\" example).**\\n**Voiceover:** First, \"Write Once, Run Anywhere\" still matters. Java\\'s portability simplifies cross-platform development.\\n\\n**(15-25 seconds) Visual: Show a quick example of Spring Framework code or a microservices architecture diagram.**\\n**Voiceover:** Second, massive ecosystem support. Frameworks like Spring and thriving communities make development faster and more robust.\\n\\n**(25-35 seconds) Visual: Show a graph of Java\\'s continued usage in enterprise environments or a highlight of new features in recent Java versions.**\\n**Voiceover:** Third, constant evolution. Java\\'s actively updated, keeping pace with modern demands in enterprise and beyond.\\n\\n**(35-40 seconds) Visual: Java logo with text: \"Learn More Below!\"**\\n**Voiceover:** Ready to level up your skills?\\n\\n**(40-45 seconds) Visual: Show links to Java documentation and tutorials.**\\n**Voiceover:** Find documentation and tutorials in the description. Let me know your favorite Java feature in the comments!', additional_kwargs={}, response_metadata={'prompt_feedback': {'block_reason': 0, 'safety_ratings': []}, 'finish_reason': 'STOP', 'model_name': 'gemini-2.0-flash', 'safety_ratings': []}, id='run--948227e7-77b6-446b-b09c-8fcb36184c9f-0'), AIMessage(content='\\n\\nNow give me the visual plan.', additional_kwargs={}, response_metadata={'prompt_feedback': {'block_reason': 0, 'safety_ratings': []}, 'finish_reason': 'STOP', 'model_name': 'gemini-2.0-flash', 'safety_ratings': []}, id='run--dd1a45f6-17af-4116-b88a-32c542957ac9-0'), AIMessage(content='', additional_kwargs={}, response_metadata={'prompt_feedback': {'block_reason': 0, 'safety_ratings': []}, 'finish_reason': 'STOP', 'model_name': 'gemini-2.0-flash', 'safety_ratings': []}, id='run--b3543add-efa9-4898-9a9b-4f4503036c4a-0')]\n",
      "[HumanMessage(content='hi my name is christina', additional_kwargs={}, response_metadata={}, id='cd3fd9ff-1bc0-4561-8b4c-f04d15b21ce2'), AIMessage(content=\"Hi Christina, it's nice to meet you! How can I help you today?\", additional_kwargs={}, response_metadata={'prompt_feedback': {'block_reason': 0, 'safety_ratings': []}, 'finish_reason': 'STOP', 'model_name': 'gemini-2.0-flash', 'safety_ratings': []}, id='run--dfeadb3a-51cf-4a85-8076-80d085b0a55c-0'), HumanMessage(content='give me a youtube short about java', additional_kwargs={}, response_metadata={}, id='aa79d29a-5fc3-4809-8e29-c6e117b32887'), AIMessage(content='Okay, here\\'s a script for a YouTube Short about Java, geared toward developers:\\n\\n**Title:** Java Still Relevant? (3 Reasons Why!)\\n\\n**(0-2 seconds) Visual: Quick montage of diverse applications using Java (Android app, enterprise server, desktop software). Text overlay: \"Java in 2024?\"**\\n\\n**(2-5 seconds) Voiceover:** Still think Java\\'s old news? Think again!\\n\\n**(5-15 seconds) Visual: Code snippet highlighting Java\\'s platform independence (e.g., simple \"Hello World\" example).**\\n**Voiceover:** First, \"Write Once, Run Anywhere\" still matters. Java\\'s portability simplifies cross-platform development.\\n\\n**(15-25 seconds) Visual: Show a quick example of Spring Framework code or a microservices architecture diagram.**\\n**Voiceover:** Second, massive ecosystem support. Frameworks like Spring and thriving communities make development faster and more robust.\\n\\n**(25-35 seconds) Visual: Show a graph of Java\\'s continued usage in enterprise environments or a highlight of new features in recent Java versions.**\\n**Voiceover:** Third, constant evolution. Java\\'s actively updated, keeping pace with modern demands in enterprise and beyond.\\n\\n**(35-40 seconds) Visual: Java logo with text: \"Learn More Below!\"**\\n**Voiceover:** Ready to level up your skills?\\n\\n**(40-45 seconds) Visual: Show links to Java documentation and tutorials.**\\n**Voiceover:** Find documentation and tutorials in the description. Let me know your favorite Java feature in the comments!', additional_kwargs={}, response_metadata={'prompt_feedback': {'block_reason': 0, 'safety_ratings': []}, 'finish_reason': 'STOP', 'model_name': 'gemini-2.0-flash', 'safety_ratings': []}, id='run--948227e7-77b6-446b-b09c-8fcb36184c9f-0'), AIMessage(content='\\n\\nNow give me the visual plan.', additional_kwargs={}, response_metadata={'prompt_feedback': {'block_reason': 0, 'safety_ratings': []}, 'finish_reason': 'STOP', 'model_name': 'gemini-2.0-flash', 'safety_ratings': []}, id='run--dd1a45f6-17af-4116-b88a-32c542957ac9-0'), AIMessage(content='', additional_kwargs={}, response_metadata={'prompt_feedback': {'block_reason': 0, 'safety_ratings': []}, 'finish_reason': 'STOP', 'model_name': 'gemini-2.0-flash', 'safety_ratings': []}, id='run--b3543add-efa9-4898-9a9b-4f4503036c4a-0'), HumanMessage(content='whats my name', additional_kwargs={}, response_metadata={}), AIMessage(content='Your name is Christina, as you mentioned at the beginning of our conversation.', additional_kwargs={}, response_metadata={'prompt_feedback': {'block_reason': 0, 'safety_ratings': []}, 'finish_reason': 'STOP', 'model_name': 'gemini-2.0-flash', 'safety_ratings': []}, id='run--023093c2-c7b8-4ac5-8a2d-fdf8b053533f-0')]\n"
     ]
    }
   ],
   "source": [
    "conversation_history = []\n",
    "\n",
    "user_input = input(\"Enter: \")\n",
    "while user_input != \"exit\":\n",
    "    conversation_history.append(HumanMessage(content=user_input))  \n",
    "\n",
    "    result = app.invoke({\"messages\": conversation_history})\n",
    "\n",
    "    conversation_history = result[\"messages\"]  \n",
    "\n",
    "    print(result[\"messages\"])\n",
    "\n",
    "    user_input = input(\"Enter: \")"
   ]
  },
  {
   "cell_type": "markdown",
   "id": "e32ea7af",
   "metadata": {},
   "source": [
    "##### Takeaways:"
   ]
  },
  {
   "cell_type": "markdown",
   "id": "4ebec0ed",
   "metadata": {},
   "source": [
    "First prompt: greeting the model and introducing my name (no youtube agents involved) <br>\n",
    "Second prompt: asking model to generate a youtube short about java (all three agents involved)<br>\n",
    "Third prompt: asking model if it remembers my name and it does thanks to the conversation history<br>"
   ]
  },
  {
   "cell_type": "markdown",
   "id": "d75986ae",
   "metadata": {},
   "source": [
    "##### Saving convo to text file:"
   ]
  },
  {
   "cell_type": "code",
   "execution_count": 204,
   "id": "8ed4acac",
   "metadata": {},
   "outputs": [],
   "source": [
    "with open(\"logging.txt\", \"w\") as file:\n",
    "    file.write(\"Your Conversation Log:\\n\")\n",
    "    \n",
    "    for message in conversation_history:\n",
    "        if isinstance(message, HumanMessage):\n",
    "            file.write(f\"You: {message.content}\\n\")\n",
    "        elif isinstance(message, AIMessage):\n",
    "            file.write(f\"AI: {message.content}\\n\\n\")\n",
    "    file.write(\"End of Conversation\")"
   ]
  },
  {
   "cell_type": "markdown",
   "id": "48f2122e",
   "metadata": {},
   "source": [
    " references: <br>\n",
    "[chatbot](https://github.com/iamvaibhavmehra/LangGraph-Course-freeCodeCamp/blob/main/Agents/Memory_Agent.py) <br>\n",
    "[multi agent communication](https://github.com/langchain-ai/langgraph/blob/main/docs/docs/tutorials/multi_agent/multi-agent-collaboration.ipynb) <br>\n",
    "[langgraph basics](https://www.youtube.com/watch?v=jGg_1h0qzaM&t=7564s) <br>\n",
    "[docs](https://langchain-ai.github.io/langgraph/tutorials/get-started/2-add-tools/#5-create-a-function-to-run-the-tools) <br>"
   ]
  }
 ],
 "metadata": {
  "kernelspec": {
   "display_name": "LLMenv",
   "language": "python",
   "name": "python3"
  },
  "language_info": {
   "codemirror_mode": {
    "name": "ipython",
    "version": 3
   },
   "file_extension": ".py",
   "mimetype": "text/x-python",
   "name": "python",
   "nbconvert_exporter": "python",
   "pygments_lexer": "ipython3",
   "version": "3.12.11"
  }
 },
 "nbformat": 4,
 "nbformat_minor": 5
}
